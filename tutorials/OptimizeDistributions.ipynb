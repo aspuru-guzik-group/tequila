{
 "cells": [
  {
   "cell_type": "markdown",
   "metadata": {},
   "source": [
    "# Training Distributions with KM Divergence"
   ]
  },
  {
   "cell_type": "markdown",
   "metadata": {},
   "source": [
    "Short tutorial on how to form objectives like in this paper  \n",
    "https://arxiv.org/pdf/1801.07686.pdf\n",
    "\n",
    "First some imports and the advice to use `tq.numpy` for functions in objectives (avoid issues in automatic differentiations and use the regular `numpy` for everything else (avoid issues with jax where you don't want them)"
   ]
  },
  {
   "cell_type": "code",
   "execution_count": 1,
   "metadata": {},
   "outputs": [],
   "source": [
    "import tequila as tq\n",
    "import numpy"
   ]
  },
  {
   "cell_type": "markdown",
   "metadata": {},
   "source": [
    "First we define the $\\max(x,\\epsilon)$ function we will need further down the road and some global variables for this example"
   ]
  },
  {
   "cell_type": "code",
   "execution_count": 2,
   "metadata": {},
   "outputs": [],
   "source": [
    "# global variables, change here if you want\n",
    "eps = 1.e-8\n",
    "n_qubits = 5\n",
    "n_layers = 1\n",
    "\n",
    "def my_max(x):\n",
    "    if x<eps:\n",
    "        return eps\n",
    "    else:\n",
    "        return x"
   ]
  },
  {
   "cell_type": "markdown",
   "metadata": {},
   "source": [
    "In this example we will train for the generation of GHZ state (as in the paper above).  \n",
    "The ansatz template consists of `Rx` gates and Mølmer-Sørensen gates which are just rotations around XX.  \n",
    "We give here the option of using multiple layers, but one layer actually suffices for this example"
   ]
  },
  {
   "cell_type": "code",
   "execution_count": 3,
   "metadata": {},
   "outputs": [],
   "source": [
    "# create ansatz\n",
    "U = tq.QCircuit()\n",
    "for layer in range(n_layers):\n",
    "    for q in range(n_qubits):\n",
    "        # name can be any non-numeric hashable type\n",
    "        # scaling variables with pi in this example\n",
    "        variable = tq.Variable(name=(layer, q))\n",
    "        U += tq.gates.Rx(angle=variable*tq.numpy.pi, target=q)\n",
    "    for q in range(n_qubits):\n",
    "        for p in range(q+1, n_qubits):\n",
    "            U += tq.gates.ExpPauli(angle=tq.numpy.pi / 2.0, paulistring=\"X({})X({})\".format(q, p))"
   ]
  },
  {
   "cell_type": "markdown",
   "metadata": {},
   "source": [
    "Here are some demonstrations on how to extract informations from your template circuit U"
   ]
  },
  {
   "cell_type": "code",
   "execution_count": 4,
   "metadata": {},
   "outputs": [
    {
     "name": "stdout",
     "output_type": "stream",
     "text": [
      "circuit: \n",
      "Rx(target=(0,), parameter=Objective with 0 unique expectation values\n",
      "variables = [(0, 0)]\n",
      "types     = [])\n",
      "Rx(target=(1,), parameter=Objective with 0 unique expectation values\n",
      "variables = [(0, 1)]\n",
      "types     = [])\n",
      "Rx(target=(2,), parameter=Objective with 0 unique expectation values\n",
      "variables = [(0, 2)]\n",
      "types     = [])\n",
      "Rx(target=(3,), parameter=Objective with 0 unique expectation values\n",
      "variables = [(0, 3)]\n",
      "types     = [])\n",
      "Rx(target=(4,), parameter=Objective with 0 unique expectation values\n",
      "variables = [(0, 4)]\n",
      "types     = [])\n",
      "Exp-Pauli(target=(0, 1), control=(), parameter=1.5707963267948966, paulistring=X(0)X(1))\n",
      "Exp-Pauli(target=(0, 2), control=(), parameter=1.5707963267948966, paulistring=X(0)X(2))\n",
      "Exp-Pauli(target=(0, 3), control=(), parameter=1.5707963267948966, paulistring=X(0)X(3))\n",
      "Exp-Pauli(target=(0, 4), control=(), parameter=1.5707963267948966, paulistring=X(0)X(4))\n",
      "Exp-Pauli(target=(1, 2), control=(), parameter=1.5707963267948966, paulistring=X(1)X(2))\n",
      "Exp-Pauli(target=(1, 3), control=(), parameter=1.5707963267948966, paulistring=X(1)X(3))\n",
      "Exp-Pauli(target=(1, 4), control=(), parameter=1.5707963267948966, paulistring=X(1)X(4))\n",
      "Exp-Pauli(target=(2, 3), control=(), parameter=1.5707963267948966, paulistring=X(2)X(3))\n",
      "Exp-Pauli(target=(2, 4), control=(), parameter=1.5707963267948966, paulistring=X(2)X(4))\n",
      "Exp-Pauli(target=(3, 4), control=(), parameter=1.5707963267948966, paulistring=X(3)X(4))\n",
      "\n",
      "Circuit depends on variables:  [(0, 0), (0, 1), (0, 2), (0, 3), (0, 4)]\n"
     ]
    }
   ],
   "source": [
    "print(U)\n",
    "print(\"Circuit depends on variables: \", U.extract_variables())"
   ]
  },
  {
   "cell_type": "markdown",
   "metadata": {},
   "source": [
    "The circuit is parametrized by variables, so if we want to simulate it we will have to choose for which values we want to simulate the wavefunction. Here is an example where we set all variables to $\\pi$.  \n",
    "Variables are passed down to the simulator as a dictionary holding the variable names and values"
   ]
  },
  {
   "cell_type": "code",
   "execution_count": 5,
   "metadata": {},
   "outputs": [
    {
     "name": "stdout",
     "output_type": "stream",
     "text": [
      "wfn with variables =  {(0, 0): 1.0, (0, 1): 1.0, (0, 2): 1.0, (0, 3): 1.0, (0, 4): 1.0}\n",
      "+0.2500|10000> +0.2500|01000> +0.2500|00100> -0.2500|11100> +0.2500|00010> -0.2500|11010> -0.2500|10110> -0.2500|01110> +0.2500|00001> -0.2500|11001> -0.2500|10101> -0.2500|01101> -0.2500|10011> -0.2500|01011> -0.2500|00111> +0.2500|11111> \n"
     ]
    }
   ],
   "source": [
    "variables = {k : 1.0 for k in U.extract_variables()}\n",
    "wfn = tq.simulate(U, variables=variables)\n",
    "print(\"wfn with variables = \", variables)\n",
    "print(wfn)"
   ]
  },
  {
   "cell_type": "markdown",
   "metadata": {},
   "source": [
    "Instead of simulating directly the circuit can also be compiled and afterwards be used like a function"
   ]
  },
  {
   "cell_type": "code",
   "execution_count": 6,
   "metadata": {},
   "outputs": [
    {
     "name": "stdout",
     "output_type": "stream",
     "text": [
      "+0.2500|10000> +0.2500|01000> +0.2500|00100> -0.2500|11100> +0.2500|00010> -0.2500|11010> -0.2500|10110> -0.2500|01110> +0.2500|00001> -0.2500|11001> -0.2500|10101> -0.2500|01101> -0.2500|10011> -0.2500|01011> -0.2500|00111> +0.2500|11111> \n"
     ]
    }
   ],
   "source": [
    "compiledU = tq.compile(U)\n",
    "wfn = compiledU(variables=variables)\n",
    "print(wfn)"
   ]
  },
  {
   "cell_type": "markdown",
   "metadata": {},
   "source": [
    "Next we will define the target distribution which we want to optimize for. It is the distribution of a GHZ state, i.e. $P(00..0) = 0.5$ and $P(11..1)=0.5$ where in the following we will use binary notation for easier coding i.e $00...0=0$ and $11..1=2^{n-1}+2^{n-2}+..+1$"
   ]
  },
  {
   "cell_type": "code",
   "execution_count": 7,
   "metadata": {},
   "outputs": [],
   "source": [
    "one = sum([2**i for i in range(n_qubits)])\n",
    "target_distribution = {0:0.5, one:0.5}"
   ]
  },
  {
   "cell_type": "markdown",
   "metadata": {},
   "source": [
    "For the tequila objective Born's rule will be used. In order to make this work we need to reformulate this as an expectation value. This can be achieved as \n",
    "$$\\displaystyle \\lvert\\langle ijk..l \\rvert \\Psi \\rangle\\rvert^2 = \\langle \\Psi \\rvert H \\lvert \\Psi \\rangle$$\n",
    "where $i,j,k..,l \\in \\left\\{0,1 \\right\\}$ and the Hamiltonian is\n",
    "$$ \\displaystyle H = \\lvert ijk..l \\rangle \\langle ijk..l \\rvert = \\otimes_{m \\in (ijk..l)} \\frac{1}{n}\\left( 1 + (-1)^{m}\\sigma_Z \\right)$$\n",
    "\n",
    "Tequila has a convenience shortcut for the operator $$Q_{\\pm} = \\frac{1}{2}\\left( 1 \\pm \\sigma_Z \\right) $$\n",
    "\n",
    "Lets build the Kullback–Leibler divergence of the distribution P generated by our template U and the target distribution Q\n",
    "\n",
    "$$ \\displaystyle D(P,Q) = -\\frac{1}{2^n} \\sum_{x} P(x) \\ln\\left(\\frac{P(x)}{Q(x)}\\right) $$\n",
    "\n",
    "where we use the same safety barrier as in the paper to prevent taking logarithms of zero (this is where the mymax function fron above is needed). In the end we will square the objective to avoid negative values and assure that zero is the minimum."
   ]
  },
  {
   "cell_type": "code",
   "execution_count": 8,
   "metadata": {},
   "outputs": [],
   "source": [
    "objective = tq.Objective()\n",
    "\n",
    "for k, Q in target_distribution.items():\n",
    "    Q = my_max(Q) # here we apply the mymax function to avoid having zeros\n",
    "    wfn = tq.QubitWaveFunction.from_int(k, n_qubits=n_qubits)\n",
    "    H = tq.paulis.Projector(wfn=wfn)\n",
    "    P = tq.ExpectationValue(H=H, U=U)  # this is the born rule expectation value from above\n",
    "    P = P.apply(my_max) # here we apply the mymax function to avoid having zeros\n",
    "    objective += Q*(Q / P).apply(tq.numpy.log) # here we take the logarithm and sum up\n",
    "    \n",
    "objective = 1.0/2.0**n_qubits *objective\n",
    "objective = objective**2 # here we take the square"
   ]
  },
  {
   "cell_type": "markdown",
   "metadata": {},
   "source": [
    "Lets see what we created here.\n",
    "Tequila created an objective with 4 expectationvalues (we had 2 values in the target_distribution, and P entered twice each) but only 2 unique expectationvalues (meaning the simulator will only evaluate those two)"
   ]
  },
  {
   "cell_type": "code",
   "execution_count": 9,
   "metadata": {},
   "outputs": [
    {
     "name": "stdout",
     "output_type": "stream",
     "text": [
      "Objective with 2 unique expectation values\n",
      "variables = [(0, 0), (0, 1), (0, 2), (0, 3), (0, 4)]\n",
      "types     = not compiled\n"
     ]
    }
   ],
   "source": [
    "print(objective)"
   ]
  },
  {
   "cell_type": "markdown",
   "metadata": {},
   "source": [
    "Objectives can be compiled and simulated in the same way as the circuits above. \n",
    "Here is a small demonstration.  \n",
    "Since our objective is parametrized we need to pass the variables down again. We will use the same as in the example above.\n"
   ]
  },
  {
   "cell_type": "code",
   "execution_count": 10,
   "metadata": {},
   "outputs": [
    {
     "name": "stdout",
     "output_type": "stream",
     "text": [
      "value1 =  0.09578033\n",
      "value2 =  0.09578033\n",
      "value3 =  0.004561313\n"
     ]
    }
   ],
   "source": [
    "value1 = tq.simulate(objective, variables=variables)\n",
    "compiled = tq.compile(objective)\n",
    "value2 = compiled(variables=variables)\n",
    "variables2 = {k:1.1 for k in objective.extract_variables()}\n",
    "value3 = compiled(variables=variables2)\n",
    "print(\"value1 = \", value1)\n",
    "print(\"value2 = \", value2)\n",
    "print(\"value3 = \", value3)"
   ]
  },
  {
   "cell_type": "markdown",
   "metadata": {},
   "source": [
    "Lets optimize our objective with one of the inbuildt optimizers in tequila.  \n",
    "If no initial_values are passed down, random initialization will be used.  \n",
    "Check the OptimizerSciPy Tutorial for more information"
   ]
  },
  {
   "cell_type": "code",
   "execution_count": 11,
   "metadata": {},
   "outputs": [
    {
     "name": "stdout",
     "output_type": "stream",
     "text": [
      "Optimizer: <class 'tequila.optimizers.optimizer_scipy.OptimizerSciPy'> \n",
      "backend         : qulacs\n",
      "device          : None\n",
      "samples         : None\n",
      "save_history    : True\n",
      "noise           : None\n",
      "\n",
      "Method          : COBYLA\n",
      "Objective       : 2 expectationvalues\n",
      "\n",
      "active variables : 5\n",
      "\n",
      "E=+0.02747765  angles= {(0, 0): 1.196973294671848, (0, 1): 3.487261445909955, (0, 2): 1.2546004948085328, (0, 3): 4.323339379115283, (0, 4): 4.297460215759149}  samples= None\n",
      "E=+0.04326624  angles= {(0, 0): 2.196973294671848, (0, 1): 3.487261445909955, (0, 2): 1.2546004948085328, (0, 3): 4.323339379115283, (0, 4): 4.297460215759149}  samples= None\n",
      "E=+0.01335919  angles= {(0, 0): 1.196973294671848, (0, 1): 4.4872614459099545, (0, 2): 1.2546004948085328, (0, 3): 4.323339379115283, (0, 4): 4.297460215759149}  samples= None\n",
      "E=+0.00350544  angles= {(0, 0): 1.196973294671848, (0, 1): 4.4872614459099545, (0, 2): 2.2546004948085328, (0, 3): 4.323339379115283, (0, 4): 4.297460215759149}  samples= None\n",
      "E=+0.01896261  angles= {(0, 0): 1.196973294671848, (0, 1): 4.4872614459099545, (0, 2): 2.2546004948085328, (0, 3): 5.323339379115283, (0, 4): 4.297460215759149}  samples= None\n",
      "E=+0.01654562  angles= {(0, 0): 1.196973294671848, (0, 1): 4.4872614459099545, (0, 2): 2.2546004948085328, (0, 3): 4.323339379115283, (0, 4): 5.297460215759149}  samples= None\n",
      "E=+0.01034847  angles= {(0, 0): 0.685979841439285, (0, 1): 4.944201361642773, (0, 2): 2.573514021010323, (0, 3): 3.823072690958975, (0, 4): 3.875418739491467}  samples= None\n",
      "E=+0.01162174  angles= {(0, 0): 1.651670921989714, (0, 1): 4.597812748750098, (0, 2): 2.3317579166074354, (0, 3): 4.20230566715666, (0, 4): 4.195352184817832}  samples= None\n",
      "E=+0.00508079  angles= {(0, 0): 1.1149671676348478, (0, 1): 4.022498117220029, (0, 2): 2.326934146654208, (0, 3): 4.209872519048047, (0, 4): 4.2017358306182535}  samples= None\n",
      "E=+0.00512684  angles= {(0, 0): 1.1634208877002723, (0, 1): 4.485383631676708, (0, 2): 2.0144306100441, (0, 3): 4.2769149666437, (0, 4): 4.258295050381908}  samples= None\n",
      "E=+0.00376778  angles= {(0, 0): 1.196973294671848, (0, 1): 4.4872614459099545, (0, 2): 2.2546004948085328, (0, 3): 4.403941715367235, (0, 4): 4.201918270045619}  samples= None\n",
      "E=+0.00116350  angles= {(0, 0): 1.0780493007238203, (0, 1): 4.48060567397981, (0, 2): 2.2885035613418996, (0, 3): 4.474044450349771, (0, 4): 4.453829483671055}  samples= None\n",
      "E=+0.00017348  angles= {(0, 0): 0.8699840955232891, (0, 1): 4.572790893282165, (0, 2): 2.3848653520405336, (0, 3): 4.436950182559852, (0, 4): 4.446816900871537}  samples= None\n",
      "E=+0.00009692  angles= {(0, 0): 0.8055200929315092, (0, 1): 4.619292958946304, (0, 2): 2.5031750271015456, (0, 3): 4.5571752667279055, (0, 4): 4.613342274861681}  samples= None\n",
      "E=+0.00019319  angles= {(0, 0): 0.8164684670910927, (0, 1): 4.721878819459653, (0, 2): 2.4354367831154837, (0, 3): 4.5723238621269875, (0, 4): 4.626122129521147}  samples= None\n",
      "E=+0.00003109  angles= {(0, 0): 0.634151845128931, (0, 1): 4.522137670542379, (0, 2): 2.3599390854610816, (0, 3): 4.579886606200957, (0, 4): 4.664931359578641}  samples= None\n",
      "E=+0.00003188  angles= {(0, 0): 0.6208976455692607, (0, 1): 4.521395878020473, (0, 2): 2.3637176165598133, (0, 3): 4.676879253218375, (0, 4): 4.587298086652804}  samples= None\n",
      "E=+0.00000198  angles= {(0, 0): 0.45154420387279026, (0, 1): 4.581848929569584, (0, 2): 2.4700800093744517, (0, 3): 4.490977398508964, (0, 4): 4.590411935484344}  samples= None\n",
      "E=+0.00000310  angles= {(0, 0): 0.4133452137548334, (0, 1): 4.483007553848742, (0, 2): 2.528528788960446, (0, 3): 4.504241522559719, (0, 4): 4.618767230891968}  samples= None\n",
      "E=+0.00000060  angles= {(0, 0): 0.46449680275183974, (0, 1): 4.5520927290127196, (0, 2): 2.455111064181742, (0, 3): 4.460249548201935, (0, 4): 4.549365880789348}  samples= None\n",
      "E=+0.00000960  angles= {(0, 0): 0.3641970260110508, (0, 1): 4.5492602200774455, (0, 2): 2.382763975953847, (0, 3): 4.44274253343372, (0, 4): 4.545324230417266}  samples= None\n",
      "E=+0.00000269  angles= {(0, 0): 0.47214839390618013, (0, 1): 4.553045421003813, (0, 2): 2.4540802386928084, (0, 3): 4.411631116972945, (0, 4): 4.587862388090924}  samples= None\n",
      "E=+0.00000167  angles= {(0, 0): 0.4645626506745066, (0, 1): 4.592461390035946, (0, 2): 2.548790652977351, (0, 3): 4.435075601401865, (0, 4): 4.481647538245871}  samples= None\n",
      "E=+0.00000018  angles= {(0, 0): 0.5181716041993695, (0, 1): 4.537191377732638, (0, 2): 2.4528745216579866, (0, 3): 4.485998751404, (0, 4): 4.537738678563787}  samples= None\n",
      "E=+0.00000056  angles= {(0, 0): 0.5245353706849274, (0, 1): 4.56167978051848, (0, 2): 2.4363047352941503, (0, 3): 4.4823263309619685, (0, 4): 4.530786080986661}  samples= None\n",
      "E=+0.00000012  angles= {(0, 0): 0.49818500717094444, (0, 1): 4.502231423735846, (0, 2): 2.4333119900939852, (0, 3): 4.510369016782503, (0, 4): 4.501572602194428}  samples= None\n",
      "E=+0.00000004  angles= {(0, 0): 0.49632111804785545, (0, 1): 4.512847616661284, (0, 2): 2.455467554700634, (0, 3): 4.513780035209803, (0, 4): 4.482654865137477}  samples= None\n",
      "E=+0.00000006  angles= {(0, 0): 0.5182014754216003, (0, 1): 4.476513061786526, (0, 2): 2.474398777313323, (0, 3): 4.47538264986223, (0, 4): 4.466085324042166}  samples= None\n",
      "E=+0.00000006  angles= {(0, 0): 0.5050017983420092, (0, 1): 4.488857851451768, (0, 2): 2.491875113314596, (0, 3): 4.5532843951611, (0, 4): 4.501871581179305}  samples= None\n",
      "E=+0.00000003  angles= {(0, 0): 0.4688996976913859, (0, 1): 4.5089760859588655, (0, 2): 2.465526151442391, (0, 3): 4.505029251280438, (0, 4): 4.488301799514845}  samples= None\n",
      "E=+0.00000007  angles= {(0, 0): 0.46406939287955223, (0, 1): 4.501057186321916, (0, 2): 2.4598934921923568, (0, 3): 4.511081200539074, (0, 4): 4.478828317108222}  samples= None\n",
      "E=+0.00000003  angles= {(0, 0): 0.4714479395429383, (0, 1): 4.5327729413049616, (0, 2): 2.4846840624229762, (0, 3): 4.499501551546495, (0, 4): 4.485812297232392}  samples= None\n",
      "E=+0.00000007  angles= {(0, 0): 0.4662188530848333, (0, 1): 4.5409500871447435, (0, 2): 2.4785597989911414, (0, 3): 4.5086685347603295, (0, 4): 4.491140653630323}  samples= None\n",
      "E=+0.00000001  angles= {(0, 0): 0.4828606984382382, (0, 1): 4.523969633207974, (0, 2): 2.4902514009755663, (0, 3): 4.476637706688408, (0, 4): 4.5004773079958875}  samples= None\n",
      "E=+0.00000003  angles= {(0, 0): 0.48575608081819605, (0, 1): 4.509969854600638, (0, 2): 2.5018347737522344, (0, 3): 4.463177170608753, (0, 4): 4.479103845398909}  samples= None\n",
      "E=+0.00000004  angles= {(0, 0): 0.48021226459622424, (0, 1): 4.529979283053911, (0, 2): 2.4800305136581473, (0, 3): 4.46778228902862, (0, 4): 4.496219894176555}  samples= None\n",
      "E=+0.00000001  angles= {(0, 0): 0.48756842274314555, (0, 1): 4.5139317949398485, (0, 2): 2.5093696998754766, (0, 3): 4.487943282137166, (0, 4): 4.519459305933884}  samples= None\n",
      "E=+0.00000001  angles= {(0, 0): 0.491670615898347, (0, 1): 4.497862413901057, (0, 2): 2.525185554644173, (0, 3): 4.4831373652547875, (0, 4): 4.498764586675032}  samples= None\n",
      "E=+0.00000000  angles= {(0, 0): 0.5020834658658918, (0, 1): 4.515810317274042, (0, 2): 2.5058926274574302, (0, 3): 4.491612543796369, (0, 4): 4.51736842376104}  samples= None\n",
      "E=+0.00000002  angles= {(0, 0): 0.5110192782411185, (0, 1): 4.510471172324929, (0, 2): 2.5225701308558586, (0, 3): 4.510823840069483, (0, 4): 4.532234299594948}  samples= None\n",
      "E=+0.00000001  angles= {(0, 0): 0.5077644587451166, (0, 1): 4.515301547348465, (0, 2): 2.503340331011883, (0, 3): 4.477616859868862, (0, 4): 4.520403998224697}  samples= None\n",
      "E=+0.00000001  angles= {(0, 0): 0.5024086468089339, (0, 1): 4.5220976962257975, (0, 2): 2.5101895037205124, (0, 3): 4.490457876148, (0, 4): 4.5161027711535375}  samples= None\n",
      "E=+0.00000000  angles= {(0, 0): 0.49951388087611553, (0, 1): 4.51620822689089, (0, 2): 2.495156476772887, (0, 3): 4.496516610281995, (0, 4): 4.507465660192193}  samples= None\n",
      "E=+0.00000000  angles= {(0, 0): 0.5020781816194445, (0, 1): 4.50900384905753, (0, 2): 2.493797717568015, (0, 3): 4.509852770989498, (0, 4): 4.509907486913885}  samples= None\n",
      "E=+0.00000000  angles= {(0, 0): 0.5011082246509242, (0, 1): 4.513007258249391, (0, 2): 2.489815845774154, (0, 3): 4.510840728965155, (0, 4): 4.515126269399038}  samples= None\n",
      "E=+0.00000000  angles= {(0, 0): 0.5086052742522993, (0, 1): 4.498742708380191, (0, 2): 2.4874129667703864, (0, 3): 4.50337563133552, (0, 4): 4.506229403456834}  samples= None\n",
      "E=+0.00000000  angles= {(0, 0): 0.5019235130316978, (0, 1): 4.494809833655521, (0, 2): 2.487727164715163, (0, 3): 4.502786192605719, (0, 4): 4.505539793946878}  samples= None\n"
     ]
    },
    {
     "name": "stdout",
     "output_type": "stream",
     "text": [
      "E=+0.00000000  angles= {(0, 0): 0.5013061597176728, (0, 1): 4.4960270840878, (0, 2): 2.48566776555843, (0, 3): 4.503869897155823, (0, 4): 4.502714829363983}  samples= None\n",
      "E=+0.00000000  angles= {(0, 0): 0.5029198512608419, (0, 1): 4.492672827965057, (0, 2): 2.493668010701275, (0, 3): 4.503215745083131, (0, 4): 4.501067936759923}  samples= None\n",
      "E=+0.00000000  angles= {(0, 0): 0.5010813367874862, (0, 1): 4.486658600996661, (0, 2): 2.4982437752170585, (0, 3): 4.502987542012001, (0, 4): 4.500364802911858}  samples= None\n",
      "E=+0.00000000  angles= {(0, 0): 0.5050821929857228, (0, 1): 4.4913470678686, (0, 2): 2.493017039272258, (0, 3): 4.506066486124667, (0, 4): 4.501592283216655}  samples= None\n",
      "E=+0.00000000  angles= {(0, 0): 0.5077514527347123, (0, 1): 4.494003301783319, (0, 2): 2.494760747894221, (0, 3): 4.497595579045114, (0, 4): 4.499295852676457}  samples= None\n",
      "E=+0.00000000  angles= {(0, 0): 0.5018493108267006, (0, 1): 4.4982290636498865, (0, 2): 2.49878720103826, (0, 3): 4.504549996864767, (0, 4): 4.502083321869336}  samples= None\n",
      "E=+0.00000000  angles= {(0, 0): 0.5005249133046364, (0, 1): 4.499506414630132, (0, 2): 2.498249627588381, (0, 3): 4.504836006709628, (0, 4): 4.498691810717365}  samples= None\n",
      "E=+0.00000000  angles= {(0, 0): 0.5007158035310001, (0, 1): 4.500719695272272, (0, 2): 2.4968556934942825, (0, 3): 4.504826323187917, (0, 4): 4.4992943571813235}  samples= None\n",
      "E=+0.00000000  angles= {(0, 0): 0.49757043741954216, (0, 1): 4.499971825001763, (0, 2): 2.4988572241771903, (0, 3): 4.502611804222587, (0, 4): 4.499690311681204}  samples= None\n",
      "E=+0.00000000  angles= {(0, 0): 0.49865506396009296, (0, 1): 4.50035037475882, (0, 2): 2.4991499263432067, (0, 3): 4.5011270559366405, (0, 4): 4.499237729551664}  samples= None\n",
      "E=+0.00000000  angles= {(0, 0): 0.4986323051581947, (0, 1): 4.502780651059029, (0, 2): 2.502089667980496, (0, 3): 4.501905823886104, (0, 4): 4.499559393648119}  samples= None\n",
      "E=+0.00000000  angles= {(0, 0): 0.4971725668684522, (0, 1): 4.498464068163066, (0, 2): 2.5002086734531486, (0, 3): 4.49867644934646, (0, 4): 4.497696165164443}  samples= None\n",
      "E=+0.00000000  angles= {(0, 0): 0.4983265071934182, (0, 1): 4.50150275326537, (0, 2): 2.497907404314546, (0, 3): 4.500265580376056, (0, 4): 4.499542311824862}  samples= None\n",
      "E=+0.00000000  angles= {(0, 0): 0.4986634557901244, (0, 1): 4.5001031961219855, (0, 2): 2.4993345249803203, (0, 3): 4.500838211533058, (0, 4): 4.500118069752259}  samples= None\n",
      "E=+0.00000000  angles= {(0, 0): 0.5004906881768819, (0, 1): 4.499595239620232, (0, 2): 2.4988754502180437, (0, 3): 4.500886758937621, (0, 4): 4.500187299622162}  samples= None\n",
      "E=+0.00000000  angles= {(0, 0): 0.5008384869266571, (0, 1): 4.500204797427772, (0, 2): 2.4995815791111857, (0, 3): 4.500924159611765, (0, 4): 4.500273662141612}  samples= None\n",
      "E=+0.00000000  angles= {(0, 0): 0.5008595001177585, (0, 1): 4.500091588799973, (0, 2): 2.499715711072797, (0, 3): 4.500500893315355, (0, 4): 4.500074673419346}  samples= None\n",
      "E=+0.00000000  angles= {(0, 0): 0.5008591025053959, (0, 1): 4.499395788451458, (0, 2): 2.500391866649934, (0, 3): 4.5007317589041325, (0, 4): 4.50014799757864}  samples= None\n",
      "E=+0.00000000  angles= {(0, 0): 0.5008376553544984, (0, 1): 4.500062152389838, (0, 2): 2.499707552584497, (0, 3): 4.500292215317942, (0, 4): 4.500527490420508}  samples= None\n",
      "E=+0.00000000  angles= {(0, 0): 0.5012520661509299, (0, 1): 4.500475995882607, (0, 2): 2.499896472382163, (0, 3): 4.499756860506933, (0, 4): 4.499740213207289}  samples= None\n",
      "E=+0.00000000  angles= {(0, 0): 0.5012182219360312, (0, 1): 4.499849353299078, (0, 2): 2.4994654623482226, (0, 3): 4.500504741677361, (0, 4): 4.500073496490982}  samples= None\n",
      "E=+0.00000000  angles= {(0, 0): 0.500000019905168, (0, 1): 4.4998915963773305, (0, 2): 2.4994430906135046, (0, 3): 4.500186509021493, (0, 4): 4.499855271058377}  samples= None\n"
     ]
    }
   ],
   "source": [
    "result = tq.optimizer_scipy.minimize(objective=objective, method=\"Cobyla\")"
   ]
  },
  {
   "cell_type": "markdown",
   "metadata": {},
   "source": [
    "Lets compute our wavefunction with the optimized angles"
   ]
  },
  {
   "cell_type": "code",
   "execution_count": 12,
   "metadata": {},
   "outputs": [
    {
     "name": "stdout",
     "output_type": "stream",
     "text": [
      "-0.7071i|00000> +0.0001|01000> +0.0006|00100> -0.0002|00010> -0.0002i|11110> +0.0002|00001> +0.0002i|11101> -0.0006i|11011> -0.0001i|10111> -0.7071|11111> \n"
     ]
    }
   ],
   "source": [
    "final_wfn = tq.simulate(U, variables=result.angles)\n",
    "print(final_wfn)"
   ]
  },
  {
   "cell_type": "markdown",
   "metadata": {},
   "source": [
    "And plot some information about the optimization "
   ]
  },
  {
   "cell_type": "code",
   "execution_count": 13,
   "metadata": {},
   "outputs": [
    {
     "data": {
      "image/png": "[encoded data removed]",
      "text/plain": [
       "<Figure size 432x288 with 1 Axes>"
      ]
     },
     "metadata": {
      "needs_background": "light"
     },
     "output_type": "display_data"
    }
   ],
   "source": [
    "result.history.plot(\"energies\")"
   ]
  },
  {
   "cell_type": "code",
   "execution_count": 14,
   "metadata": {},
   "outputs": [
    {
     "data": {
      "image/png": "[encoded data removed]",
      "text/plain": [
       "<Figure size 432x288 with 1 Axes>"
      ]
     },
     "metadata": {
      "needs_background": "light"
     },
     "output_type": "display_data"
    }
   ],
   "source": [
    "result.history.plot(\"angles\")"
   ]
  },
  {
   "cell_type": "code",
   "execution_count": null,
   "metadata": {},
   "outputs": [],
   "source": []
  },
  {
   "cell_type": "code",
   "execution_count": null,
   "metadata": {},
   "outputs": [],
   "source": []
  }
 ],
 "metadata": {
  "kernelspec": {
   "display_name": "tequila-chemistry",
   "language": "python",
   "name": "tequila-chemistry"
  },
  "language_info": {
   "codemirror_mode": {
    "name": "ipython",
    "version": 3
   },
   "file_extension": ".py",
   "mimetype": "text/x-python",
   "name": "python",
   "nbconvert_exporter": "python",
   "pygments_lexer": "ipython3",
   "version": "3.7.7"
  }
 },
 "nbformat": 4,
 "nbformat_minor": 2
}
