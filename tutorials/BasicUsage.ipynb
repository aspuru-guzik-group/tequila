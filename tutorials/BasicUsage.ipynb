{
 "cells": [
  {
   "cell_type": "markdown",
   "metadata": {},
   "source": [
    "# Tequila Basic Usage"
   ]
  },
  {
   "cell_type": "markdown",
   "metadata": {},
   "source": [
    "## Create and Simulate Quantum Circuits\n",
    "\n",
    "Tequila operators on abstract data types which can be translated and executed on various backends.  \n",
    "In this part of the tutorial we show how to initialize and execute those.\n",
    "\n",
    "First import tequila and check which backends are installed on your system.  \n",
    "If supported backends are not installed you can for most of them just install them with\n",
    "`pip install --upgrade name`  in your command line  \n",
    "If you have old versions of supported backends installed that might get you in trouble.   \n",
    "You can upgrade them with the same command."
   ]
  },
  {
   "cell_type": "code",
   "execution_count": 1,
   "metadata": {},
   "outputs": [
    {
     "name": "stdout",
     "output_type": "stream",
     "text": [
      "backend         | wfn        | sampling   | noise      | installed \n",
      "--------------------------------------------------------------------\n",
      "qulacs_gpu      | False      | False      | False      | False     \n",
      "qulacs          | True       | True       | True       | True      \n",
      "qibo            | False      | False      | False      | False     \n",
      "qiskit          | True       | True       | True       | True      \n",
      "cirq            | True       | True       | True       | True      \n",
      "pyquil          | True       | True       | True       | True      \n",
      "symbolic        | True       | False      | False      | True      \n"
     ]
    }
   ],
   "source": [
    "import tequila as tq\n",
    "tq.show_available_simulators()\n",
    "from numpy import pi\n"
   ]
  },
  {
   "cell_type": "markdown",
   "metadata": {},
   "source": [
    "### Create Simple Circuits"
   ]
  },
  {
   "cell_type": "markdown",
   "metadata": {},
   "source": [
    "Lets create some simple unparametrized circutis.  \n",
    "With unparametrized we mean here, that possible angles in the circuits are fixed.  \n",
    "You can create tequila circuits and gates over the `tq.gates` module.  \n",
    "Gates and circuits can be glued together with the `+` operation.  \n",
    "\n",
    "Gates can receive the keyword arguments `target` and `control` which defines qubit(s) on which the gates act"
   ]
  },
  {
   "cell_type": "code",
   "execution_count": 2,
   "metadata": {},
   "outputs": [],
   "source": [
    "circuit = tq.gates.H(target=0) + tq.gates.CNOT(target=1,control=0)"
   ]
  },
  {
   "cell_type": "markdown",
   "metadata": {},
   "source": [
    "Circuits can be printed out in list-type form or can be drawn by the backends.  \n",
    "The result of tq.draw will depend which backends you have installed.  \n",
    "If you want to draw with a specific backend, just pass the `backend` keyword, e.g. tq.draw(circuit,`backend='cirq'`)"
   ]
  },
  {
   "cell_type": "code",
   "execution_count": 3,
   "metadata": {},
   "outputs": [
    {
     "name": "stdout",
     "output_type": "stream",
     "text": [
      "circuit: \n",
      "H(target=(0,))\n",
      "X(target=(1,), control=(0,))\n",
      "\n"
     ]
    }
   ],
   "source": [
    "print(circuit)"
   ]
  },
  {
   "cell_type": "code",
   "execution_count": 4,
   "metadata": {},
   "outputs": [
    {
     "name": "stdout",
     "output_type": "stream",
     "text": [
      "0: ───H───@───\n",
      "          │\n",
      "1: ───────X───\n"
     ]
    }
   ],
   "source": [
    "tq.draw(circuit)"
   ]
  },
  {
   "cell_type": "markdown",
   "metadata": {},
   "source": [
    "Lets do the same with a list of qubits and see what happens"
   ]
  },
  {
   "cell_type": "code",
   "execution_count": 5,
   "metadata": {},
   "outputs": [
    {
     "name": "stdout",
     "output_type": "stream",
     "text": [
      "0: ───H───@───\n",
      "          │\n",
      "1: ───H───X───\n"
     ]
    }
   ],
   "source": [
    "circuit = tq.gates.H(target=[0,1]) + tq.gates.X(target=1, control=0)\n",
    "tq.draw(circuit)"
   ]
  },
  {
   "cell_type": "markdown",
   "metadata": {},
   "source": [
    "Some gates have to be parametrized by `angle` and some can be parametrized by `power`.  \n",
    "Note that if you use cirq to draw circuits, it will display those in different units. This does not affect the simulation.\n",
    "\n",
    "Tequila uses the standard convention for qubit rotations:\n",
    "$$\n",
    "R_i(\\theta) = e^{-i\\frac{\\theta}{2} \\sigma_i}, \\qquad i \\in \\left\\{ X, Y, Z \\right\\}\n",
    "$$\n",
    "\n",
    "which is carried over for multi-qubit rotations\n",
    "$$\n",
    "R_P(\\theta) = e^{-i\\frac{\\theta}{2} P}\n",
    "$$\n",
    "where $P$ is a paulistring like e.g. $X(0)Y(1)$"
   ]
  },
  {
   "cell_type": "code",
   "execution_count": 6,
   "metadata": {},
   "outputs": [
    {
     "name": "stdout",
     "output_type": "stream",
     "text": [
      "0: ───H──────────@────────────────@───H───────────\n",
      "                 │                │\n",
      "1: ───Rx(0.5π)───X───Rz(0.318π)───X───Rx(-0.5π)───\n"
     ]
    }
   ],
   "source": [
    "# Some further examples\n",
    "circuit0 = tq.gates.Ry(angle=1.0, target=0) + tq.gates.X(target=1, control=0)\n",
    "circuit1 = tq.gates.Y(power=0.5, target=0) + tq.gates.Ry(angle=1.0, target=1, control=0)\n",
    "circuit2 = tq.gates.Rp(angle=1.0, paulistring=\"Y(0)\") + tq.gates.X(target=1, control=0) # acts the same as circuit0\n",
    "circuit3 = tq.gates.Rp(angle=1.0, paulistring=\"X(0)Y(1)\")\n",
    "\n",
    "generator = tq.paulis.Y(0)\n",
    "circuit4 = tq.gates.Trotterized(generators=[generator], angles=[1.0], steps=1) # acts the same as circuit0\n",
    "generator = tq.paulis.X(0)*tq.paulis.Y(1)\n",
    "circuit5 = tq.gates.Trotterized(generators=[generator], angles=[1.0], steps=1) # acts the same as circuit3\n",
    "\n",
    "tq.draw(circuit3)"
   ]
  },
  {
   "cell_type": "markdown",
   "metadata": {},
   "source": [
    "### Simulate and Sample Simple Circuits"
   ]
  },
  {
   "cell_type": "markdown",
   "metadata": {},
   "source": [
    "Lets simulate our last created circuit.  \n",
    "This can be done by the `tq.simulate` function.   \n",
    "The return type is a `QubitWaveFunction`"
   ]
  },
  {
   "cell_type": "code",
   "execution_count": 7,
   "metadata": {},
   "outputs": [
    {
     "name": "stdout",
     "output_type": "stream",
     "text": [
      "+0.5000|00> +0.5000|10> +0.5000|01> +0.5000|11> \n"
     ]
    }
   ],
   "source": [
    "wfn = tq.simulate(circuit)\n",
    "print(wfn)"
   ]
  },
  {
   "cell_type": "markdown",
   "metadata": {},
   "source": [
    "You can control on which backend the simulation is executed with the `backend=name` keyword where name is one of the backends that are installed on your system (see first cell)  "
   ]
  },
  {
   "cell_type": "code",
   "execution_count": 8,
   "metadata": {},
   "outputs": [
    {
     "name": "stdout",
     "output_type": "stream",
     "text": [
      "+0.5000|00> +0.5000|10> +0.5000|01> +0.5000|11> \n"
     ]
    }
   ],
   "source": [
    "# simulate on 'qulacs' backend (which is the default)\n",
    "# Note that this cell will crash if qulacs is not installed\n",
    "# just switch the name with something that is installed on your system (check the first cell)\n",
    "wfn = tq.simulate(circuit, backend='qulacs')\n",
    "print(wfn)"
   ]
  },
  {
   "cell_type": "markdown",
   "metadata": {},
   "source": [
    "If you don't want to simulate a full wavefunction but rather simulate individual samples from it you can pass down the `samples=integer` keyword"
   ]
  },
  {
   "cell_type": "code",
   "execution_count": 9,
   "metadata": {},
   "outputs": [
    {
     "name": "stdout",
     "output_type": "stream",
     "text": [
      "+4.0000|11> +2.0000|10> +4.0000|00> \n"
     ]
    }
   ],
   "source": [
    "measurements = tq.simulate(circuit, samples=10)\n",
    "print(measurements)"
   ]
  },
  {
   "cell_type": "markdown",
   "metadata": {},
   "source": [
    "You can access the individual measurements either by integers in binary notation or by binary strings"
   ]
  },
  {
   "cell_type": "code",
   "execution_count": 10,
   "metadata": {},
   "outputs": [
    {
     "name": "stdout",
     "output_type": "stream",
     "text": [
      "4\n",
      "4\n",
      "2\n",
      "2\n"
     ]
    }
   ],
   "source": [
    "print(measurements(0))\n",
    "print(measurements(\"00\"))\n",
    "print(measurements(2))\n",
    "print(measurements(\"10\"))"
   ]
  },
  {
   "cell_type": "markdown",
   "metadata": {},
   "source": [
    "Individual measurement instructions can be added over the `read_out_qubits` keyword"
   ]
  },
  {
   "cell_type": "code",
   "execution_count": 11,
   "metadata": {},
   "outputs": [
    {
     "data": {
      "text/plain": [
       "+1.0000|0> +5.0000|1> "
      ]
     },
     "execution_count": 11,
     "metadata": {},
     "output_type": "execute_result"
    }
   ],
   "source": [
    "compiled_circuit = tq.compile(circuit, samples=10, backend=\"qulacs\")\n",
    "\n",
    "compiled_circuit(samples=10, read_out_qubits=[0])"
   ]
  },
  {
   "cell_type": "markdown",
   "metadata": {},
   "source": [
    "### Create Parametrized Circuits\n",
    "\n",
    "Now we will explore how to create parametrized circuits.  \n",
    "This works analogue to the simple circuits before, just that `angle` and `power` can be set to hashable types.  \n",
    "You can either initialize the variable directly or you can create a tequila variable object and use that.  \n",
    "The latter is only important if you intend to pass down a manipulated variable (like for example $a^2$ instead of just $a$)\n",
    "\n",
    "Lets start with something simple: A parametrized rotation on a single qubit.  \n",
    "We will call the variable $a$.  \n",
    "If the circuit gets simulated the value of the variable has to be specified.  \n",
    "This is done by passing down a dictionary holding the names and values of all variables."
   ]
  },
  {
   "cell_type": "code",
   "execution_count": null,
   "metadata": {},
   "outputs": [],
   "source": [
    "# initialize the parametrized circuit\n",
    "circuit = tq.gates.Ry(angle=\"a\", target=0)\n",
    "pi = tq.numpy.pi\n",
    "# set the value we want to simulate\n",
    "variables = {\"a\" : pi**2}\n",
    "wfn = tq.simulate(circuit, variables=variables)\n",
    "print(wfn)"
   ]
  },
  {
   "cell_type": "markdown",
   "metadata": {},
   "source": [
    "You can see if a circuit is parametrized by calling `extract_variables` from the circuit.  \n",
    "Note that if you use the cirq backend to draw the circuit"
   ]
  },
  {
   "cell_type": "code",
   "execution_count": null,
   "metadata": {},
   "outputs": [],
   "source": [
    "print(\"circuit has variables: \", circuit.extract_variables())"
   ]
  },
  {
   "cell_type": "markdown",
   "metadata": {},
   "source": [
    "Now the same thing a little more sophisticated.  \n",
    "We will parametrized the gate by $a^2$ and also we want the $a$ to be in units of $\\pi$ "
   ]
  },
  {
   "cell_type": "code",
   "execution_count": null,
   "metadata": {},
   "outputs": [],
   "source": [
    "a = tq.Variable(\"a\")\n",
    "\n",
    "circuit = tq.gates.Ry(angle=(a*pi)**2, target=0)\n",
    "\n",
    "# set the value we want to simulate\n",
    "variables = {\"a\" : 1.0}\n",
    "wfn = tq.simulate(circuit, variables=variables)\n",
    "print(wfn)"
   ]
  },
  {
   "cell_type": "markdown",
   "metadata": {},
   "source": [
    "Now the same again with a stronger transformation on the variables:  \n",
    "In general, if you want to apply transformations on Variables (and later on Objectives) this can be done with   \n",
    "`variable.apply(your_function)`.  \n",
    "Here we will take the exponential function of numpy. Note that it is adviced to take those functions from `tq.numpy` since this will be the `jax` numpy used for automaticl differentiation.  \n",
    "By doing so consistently you will avoid potential problems with gradients later."
   ]
  },
  {
   "cell_type": "code",
   "execution_count": null,
   "metadata": {},
   "outputs": [],
   "source": [
    "a = tq.Variable(\"a\")\n",
    "\n",
    "circuit = tq.gates.Ry(angle=((a*pi)**2).apply(tq.numpy.exp), target=0)\n",
    "\n",
    "# set the value we want to simulate\n",
    "variables = {\"a\" : 1.0}\n",
    "wfn = tq.simulate(circuit, variables=variables)\n",
    "print(wfn)"
   ]
  },
  {
   "cell_type": "markdown",
   "metadata": {},
   "source": [
    "Lets do the same thing once more, but this time with a customized transformation (which will do the same as in the last cell)"
   ]
  },
  {
   "cell_type": "code",
   "execution_count": null,
   "metadata": {},
   "outputs": [],
   "source": [
    "# define your own transformation\n",
    "def my_trafo(x):\n",
    "    return tq.numpy.exp(x**2)\n",
    "\n",
    "a = tq.Variable(\"a\")\n",
    "\n",
    "# we will put the variable manipulation here for more overview\n",
    "a = a*pi # a is now in a*pi\n",
    "a = a.apply(my_trafo) # a is now exp((a*pi)**2)\n",
    "\n",
    "circuit = tq.gates.Ry(angle=a, target=0)\n",
    "\n",
    "# set the value we want to simulate\n",
    "variables = {\"a\" : 1.0}\n",
    "wfn = tq.simulate(circuit, variables=variables)\n",
    "print(wfn)"
   ]
  },
  {
   "cell_type": "markdown",
   "metadata": {},
   "source": [
    "Note that you don't have to use strings as variable names.  \n",
    "You can use any hashable type except numeric types since those will be interpeted as fixed numbers.\n",
    "Here is one example using a combination of strings and tuples"
   ]
  },
  {
   "cell_type": "code",
   "execution_count": null,
   "metadata": {},
   "outputs": [],
   "source": [
    "circuit = tq.gates.Ry(angle=(1,\"a\", \"its a stupid example\"), target=0)\n",
    "print(circuit.extract_variables())\n",
    "circuit = tq.gates.Ry(angle=(1,2,3), target=0)\n",
    "print(circuit.extract_variables())"
   ]
  },
  {
   "cell_type": "markdown",
   "metadata": {},
   "source": [
    "## Create and Simulate Objectives/Expectationvalues"
   ]
  },
  {
   "cell_type": "markdown",
   "metadata": {},
   "source": [
    "Within tequila you can define qubit operators which can either be used to generate gates and circuits over `tq.gates.Rp`, `tq.gates.Trotterized` or `tq.gates.GeneralizedRotation` or as Hamiltonians defining the measurements on the quantum experiments. \n",
    "\n",
    "`QCircuit` and `QubitHamiltonian` objects can be combined to expectation values which can be combined and transformed to become more general `Objectives` (in tequila an expectation value is already objective in its simplest form).\n",
    "\n",
    "We will start by demonstrating this with a simple one qubit example.  \n",
    "We will take the one qubit rotation gate from previous sections and use a simple pauli operator as hamiltonian.\n",
    "So our expectation value will be:  \n",
    "\n",
    "$$\n",
    "E = \\langle\\Psi(a)\\rvert H \\lvert\\Psi(a) \\rangle = \\langle0\\rvert U^\\dagger\\left(a\\right) H  U\\left(a\\right) \\lvert 0\\rangle = \\langle H \\rangle_{ U\\left(a\\right)}\n",
    "$$  \n",
    "  \n",
    "where $H = \\sigma_x = X $ and $ U\\left(a\\right) = Ry(a)$"
   ]
  },
  {
   "cell_type": "code",
   "execution_count": null,
   "metadata": {},
   "outputs": [],
   "source": [
    "# the circuit\n",
    "U = tq.gates.Ry(angle=\"a\", target=0)\n",
    "# the Hamiltonian\n",
    "H = tq.paulis.X(0)\n",
    "# the Objective (a single expectation value)\n",
    "E = tq.ExpectationValue(H=H, U=U)\n",
    "print(\"Hamiltonian \", H)\n",
    "print(E)"
   ]
  },
  {
   "cell_type": "code",
   "execution_count": null,
   "metadata": {},
   "outputs": [],
   "source": [
    "# better not use it for large objectives\n",
    "tq.draw(E)"
   ]
  },
  {
   "cell_type": "markdown",
   "metadata": {},
   "source": [
    "Lets simulate the objective for some choices of our variable.  \n",
    "Note that the simulate function is the same as before for the circuits, you can use the `backend` and `sample` key in the same way.  \n",
    "\n",
    "Since the objective is defined with parametrized quantum circuits, the values of the variables have to be passed down in the same way as before.  \n",
    "\n",
    "Note that not all expectationvalues in the objective need to be parametrized and that the parameters don't need to be the same.  "
   ]
  },
  {
   "cell_type": "code",
   "execution_count": null,
   "metadata": {},
   "outputs": [],
   "source": [
    "variables = {\"a\": 1.0}\n",
    "value = tq.simulate(E, variables=variables)\n",
    "print(\"Objective({}) = {}\".format(variables[\"a\"], value))"
   ]
  },
  {
   "cell_type": "markdown",
   "metadata": {},
   "source": [
    "Here are some more intuitive examples of Hamiltonians.  \n",
    "Note that those operators are not automatically hermitian.  \n",
    "You can use the `split` function to get the hermitian and/or antihermitian part  \n",
    "Check also the `FAQ` notebook for some more information."
   ]
  },
  {
   "cell_type": "code",
   "execution_count": null,
   "metadata": {},
   "outputs": [],
   "source": [
    "# Pauli Operators can be initialilzed and added/multipled \n",
    "H = tq.paulis.X(qubit=[0,1,2,3]) + tq.paulis.Y(2) + tq.paulis.Z(qubit=[0,1])*tq.paulis.X(2)\n",
    "print(H, \" is hermitian = \", H.is_hermitian())\n",
    "\n",
    "H = tq.paulis.Z(0)*tq.paulis.Y(0) + tq.paulis.X(0)\n",
    "print(H, \" is hermitian = \", H.is_hermitian())\n",
    "\n",
    "hermitian_part, anti_hermitian_part = H.split()\n",
    "print(\"hermitian part      = \", hermitian_part)\n",
    "print(\"anti-hermitian part = \", anti_hermitian_part)\n",
    "\n",
    "H = tq.paulis.Projector(\"|00>\")\n",
    "print(H, \" is hermitian = \", H.is_hermitian())\n",
    "\n",
    "H = tq.paulis.Projector(\"1.0*|00> + 1.0*|11>\")\n",
    "print(H, \" is hermitian = \", H.is_hermitian())\n"
   ]
  },
  {
   "cell_type": "markdown",
   "metadata": {},
   "source": [
    "Lets proceed with our previous simple example of a single qubit rotation and a single X as Hamiltonian.\n",
    "\n",
    "If you intent to evaluate the objective with lots of different choices of the variables it is useful to compile it.  A compiled objective is tied to a specific backend and can be used like a function taking a dictionary of variables.\n",
    "\n",
    "The compile function takes also the `backend` and `sample` keyword. If no backend is chosen tequila will pick automatically from the installed ones. If you intent to sample your objective instead of fully simulate it you can give a dummy integer of samples to `compile`. This will help tequila pick the best available backend but will not fix the number of samples for future evaluations.\n",
    "\n",
    "Compiling first will make your code faster since then the abstract circuits do not need to be re-translated to the backend every time."
   ]
  },
  {
   "cell_type": "code",
   "execution_count": null,
   "metadata": {},
   "outputs": [],
   "source": [
    "compiled_objective = tq.compile(E)\n",
    "\n",
    "# the compiled objective can now be used like a function\n",
    "for value in [0.0, 0.5, 1.0]:\n",
    "    evaluated = compiled_objective(variables={\"a\": value})\n",
    "    print(\"objective({}) = {}\".format(value, evaluated))"
   ]
  },
  {
   "cell_type": "markdown",
   "metadata": {},
   "source": [
    "Lets simulate our compiled objetive and plot the results"
   ]
  },
  {
   "cell_type": "code",
   "execution_count": null,
   "metadata": {},
   "outputs": [],
   "source": [
    "def compile_and_evaluate(objective, steps=25, samples=None, start=0, stop=2*pi):\n",
    "    from matplotlib import pyplot as plt\n",
    "    plt.figure()\n",
    "    \n",
    "    compiled_objective = tq.compile(objective, samples=samples)\n",
    "    values = [start + (stop-start)*step/steps for step in range(steps)]\n",
    "    evaluated = [compiled_objective(variables={\"a\": value}, samples=samples) for value in values]\n",
    "\n",
    "    plt.plot(values, evaluated)\n",
    "    plt.show()\n",
    "    return values, evaluated\n",
    "\n",
    "compile_and_evaluate(E);"
   ]
  },
  {
   "cell_type": "markdown",
   "metadata": {},
   "source": [
    "Lets do the same again with a more complicated objective.  \n",
    "Lets take the square of our original expectation value and shift it by 1\n",
    "\n",
    "$$\n",
    "L = E^2 + 1\n",
    "$$"
   ]
  },
  {
   "cell_type": "code",
   "execution_count": null,
   "metadata": {},
   "outputs": [],
   "source": [
    "# this is the new objective\n",
    "L = E**2 + 1\n",
    "\n",
    "compile_and_evaluate(L);"
   ]
  },
  {
   "cell_type": "markdown",
   "metadata": {},
   "source": [
    "And the same, but shifted by $e^{-a^2}$, so the shift is not constant and will only affect $L$ for small values of $a$.\n",
    "\n",
    "$$\n",
    "L = E^2 + e^{-a^2}\n",
    "$$"
   ]
  },
  {
   "cell_type": "code",
   "execution_count": null,
   "metadata": {},
   "outputs": [],
   "source": [
    "# For completeness we initialize the variable again here\n",
    "a = tq.Variable(\"a\")\n",
    "# to be sure that the variable is the same as the one from the objective we could also do\n",
    "# a = objective.extract_variables()[0]\n",
    "\n",
    "# this is the new objective\n",
    "L = E**2 + (-a**2).apply(tq.numpy.exp)\n",
    "\n",
    "compile_and_evaluate(L);"
   ]
  },
  {
   "cell_type": "markdown",
   "metadata": {},
   "source": [
    "Now we also transform the expectation value in a more complicated way. It works the same way as it works for variables\n",
    "\n",
    "$$\n",
    "L = exp(-E^2) + exp(-a^2)E\n",
    "$$\n",
    "\n",
    "Note that the original expectation value now enters two times into the objective.  \n",
    "But tequila will only evaluate it once per run."
   ]
  },
  {
   "cell_type": "code",
   "execution_count": null,
   "metadata": {},
   "outputs": [],
   "source": [
    "# For completeness we initialize the variable again here\n",
    "a = tq.Variable(\"a\")\n",
    "# to be sure that the variable is the same as the one from the objective we could also do\n",
    "# a = objective.extract_variables()[0]\n",
    "\n",
    "# this is the new objective\n",
    "L = E**2 + (-a**2).apply(tq.numpy.exp)*E\n",
    "\n",
    "compile_and_evaluate(L);\n",
    "\n",
    "# check how many (unique) expectation values are in the objective\n",
    "print(L)"
   ]
  },
  {
   "cell_type": "markdown",
   "metadata": {},
   "source": [
    "At last, lets take our last objective but sample from it. \n",
    "This means that in the evaluation of the expectation value the measurements on the underlying circuit are sampled.  \n",
    "Feel free to play with the number of samples."
   ]
  },
  {
   "cell_type": "code",
   "execution_count": null,
   "metadata": {},
   "outputs": [],
   "source": [
    "# For completeness we initialize the variable again here\n",
    "a = tq.Variable(\"a\")\n",
    "# to be sure that the variable is the same as the one from the objective we could also do\n",
    "# a = objective.extract_variables()[0]\n",
    "\n",
    "# this is the new objective\n",
    "L = E**2 + (-a**2).apply(tq.numpy.exp)*E\n",
    "\n",
    "compile_and_evaluate(L, samples=1000);\n",
    "\n",
    "# check how many (unique) expectation values are in the objective\n",
    "print(L)"
   ]
  },
  {
   "cell_type": "markdown",
   "metadata": {},
   "source": [
    "### Derivatives of Objectives\n",
    "\n",
    "Derivatives of objectives are objectives themselves.\n",
    "They can be simply created by applying `tq.grad` on a objective.  \n",
    "\n",
    "Lets take first objective and plot its derivative.\n",
    "The first is easy to check since the derivative should just be the shifted sinus curve.\n",
    "Feel free to change the objective and play around.\n"
   ]
  },
  {
   "cell_type": "code",
   "execution_count": null,
   "metadata": {},
   "outputs": [],
   "source": [
    "L = E\n",
    "\n",
    "dLda = tq.grad(L, \"a\")\n",
    "d2Ld2a = tq.grad(dLda, \"a\")\n",
    "print(\"Objective:\\n\", L)\n",
    "compile_and_evaluate(L);\n",
    "print(\"First Derivative:\\n\",dLda)\n",
    "compile_and_evaluate(dLda);\n",
    "print(\"Second Derivative:\\n\",d2Ld2a)\n",
    "compile_and_evaluate(d2Ld2a);\n"
   ]
  },
  {
   "cell_type": "code",
   "execution_count": null,
   "metadata": {},
   "outputs": [],
   "source": [
    "# another example\n",
    "L = E**2 + (-a**2).apply(tq.numpy.exp)*E\n",
    "dLda = tq.grad(L, \"a\")\n",
    "d2Ld2a = tq.grad(dLda, \"a\")\n",
    "print(\"Objective:\\n\", L)\n",
    "compile_and_evaluate(L);\n",
    "print(\"First Derivative:\\n\",dLda)\n",
    "compile_and_evaluate(dLda);\n",
    "print(\"Second Derivative:\\n\",d2Ld2a)\n",
    "compile_and_evaluate(d2Ld2a);\n",
    "\n",
    "\n"
   ]
  },
  {
   "cell_type": "markdown",
   "metadata": {},
   "source": [
    "# All in one\n",
    "\n",
    "At last we will create a small toy objective and use the phoenics optimizer to find local minima.  \n",
    "\n",
    "As expectation value we will use an entangled circuit with one CNOT gate and one Ry rotation and an arbitrary chosen Hamiltonian.\n",
    "\n",
    "Our objective is defined as\n",
    "\n",
    "$$\\displaystyle\n",
    "L = \\langle H \\rangle_{U(a)} + e^{-\\left(\\frac{\\partial}{\\partial a} \\langle H \\rangle_{U_{a}}\\right)^2 }\n",
    "$$\n",
    "\n",
    "with \n",
    "\n",
    "$$\n",
    "H = -X(0)X(1) + \\frac{1}{2}Z(0) + Y(1)\n",
    "$$\n",
    "\n",
    "and \n",
    "\n",
    "$$\n",
    "U = e^{-\\frac{e^{-a^2}}{2} Y(0)} \\text{CNOT}(0,1)\n",
    "$$"
   ]
  },
  {
   "cell_type": "code",
   "execution_count": null,
   "metadata": {},
   "outputs": [],
   "source": [
    "# All in one\n",
    "\n",
    "a = tq.Variable(\"a\")\n",
    "U = tq.gates.Ry(angle=(-a**2).apply(tq.numpy.exp)*pi, target=0)\n",
    "U += tq.gates.X(target=1, control=0)\n",
    "\n",
    "H = tq.QubitHamiltonian.from_string(\"-1.0*X(0)X(1)+0.5Z(0)+Y(1)\")\n",
    "\n",
    "E = tq.ExpectationValue(H=H, U=U)\n",
    "dE = tq.grad(E, \"a\")\n",
    "\n",
    "objective = E + (-dE**2).apply(tq.numpy.exp)\n",
    "\n",
    "param, values = compile_and_evaluate(objective, steps=100, start =-5, stop=5);"
   ]
  },
  {
   "cell_type": "code",
   "execution_count": null,
   "metadata": {},
   "outputs": [],
   "source": [
    "# We need to specify the phoenics config here\n",
    "# the only change is that we are changing the interval for periodic boundary conditions to [-3,3] istead df [0, 2pi]\n",
    "# not that the original interval would also work here\n",
    "# we are restricting the search to 10 iterations here\n",
    "# check out the notebook on phoenics for more information\n",
    "phoenics_config = {'general': {'auto_desc_gen': 'False', 'batches': 5, 'boosted': 'False', 'parallel': 'False'}, 'parameters': [{'name': a, 'periodic': 'True', 'type': 'continuous', 'size': 1, 'low': -3., 'high': 3.}], 'objectives': [{'name': 'Energy', 'goal': 'minimize'}]}\n",
    "result = tq.minimize(method='phoenics', objective = objective, phoenics_config = phoenics_config, maxiter=10)"
   ]
  },
  {
   "cell_type": "code",
   "execution_count": null,
   "metadata": {},
   "outputs": [],
   "source": [
    "# plot the points phoenics visited\n",
    "# the information is in the optimizer history\n",
    "# we have 'angles' and `energies' giving us information about every evaluation\n",
    "import matplotlib.pyplot as plt\n",
    "points = {}\n",
    "energies = result.history.energies\n",
    "angles = result.history.angles\n",
    "for it, energy in enumerate(energies):\n",
    "    angle = angles[it][tq.Variable(\"a\")]\n",
    "    points[angle] = energy\n",
    "\n",
    "plt.plot(param, values, linestyle=\"--\")\n",
    "plt.plot(list(points.keys()), list(points.values()), marker = \"o\", linestyle=\" \", label=\"phoenics\")\n",
    "plt.legend()\n",
    "plt.show()\n",
    "    \n"
   ]
  },
  {
   "cell_type": "markdown",
   "metadata": {},
   "source": [
    "In case you want to play with different optimizers (see also the SciPyOptimizers and FAQ notebooks)"
   ]
  },
  {
   "cell_type": "code",
   "execution_count": null,
   "metadata": {},
   "outputs": [],
   "source": [
    "tq.show_available_optimizers()"
   ]
  },
  {
   "cell_type": "code",
   "execution_count": null,
   "metadata": {},
   "outputs": [],
   "source": []
  }
 ],
 "metadata": {
  "kernelspec": {
   "display_name": "tequila-3.6",
   "language": "python",
   "name": "tequila-3.6"
  },
  "language_info": {
   "codemirror_mode": {
    "name": "ipython",
    "version": 3
   },
   "file_extension": ".py",
   "mimetype": "text/x-python",
   "name": "python",
   "nbconvert_exporter": "python",
   "pygments_lexer": "ipython3",
   "version": "3.6.9"
  }
 },
 "nbformat": 4,
 "nbformat_minor": 2
}
